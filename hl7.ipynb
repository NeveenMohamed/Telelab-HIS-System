{
 "cells": [
  {
   "cell_type": "code",
   "execution_count": null,
   "metadata": {},
   "outputs": [],
   "source": [
    "message = {\"_id\":\"6633271870706b2f13b24570\",\"appointmentId\":\"66331fe28d8642d30034462b\",\"labTest\":{\"WBC\":1,\"RBC\":2,\"HGB\":3,\"HCT\":4,\"MCV\":5,\"MCH\":6,\"MCHC\":7,\"PLT\":8,\"_id\":\"6633271870706b2f13b24571\"},\"reportingDate\":\"2024-05-02T05:38:40.407Z\",\"__v\":0}"
   ]
  }
 ],
 "metadata": {
  "language_info": {
   "name": "python"
  }
 },
 "nbformat": 4,
 "nbformat_minor": 2
}
